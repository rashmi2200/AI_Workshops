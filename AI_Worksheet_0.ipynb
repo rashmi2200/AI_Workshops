{
  "nbformat": 4,
  "nbformat_minor": 0,
  "metadata": {
    "colab": {
      "provenance": []
    },
    "kernelspec": {
      "name": "python3",
      "display_name": "Python 3"
    },
    "language_info": {
      "name": "python"
    }
  },
  "cells": [
    {
      "cell_type": "code",
      "execution_count": null,
      "metadata": {
        "colab": {
          "base_uri": "https://localhost:8080/"
        },
        "id": "7ZGR0l6GM2QT",
        "outputId": "62312a52-fb86-4518-83fc-41ac70c755a3"
      },
      "outputs": [
        {
          "output_type": "stream",
          "name": "stdout",
          "text": [
            "Hello, World!\n",
            "Python version: 3.11.11 (main, Dec  4 2024, 08:55:07) [GCC 11.4.0]\n"
          ]
        }
      ],
      "source": [
        "import sys\n",
        "# Check Python version\n",
        "if sys.version_info.major == 3 and sys.version_info.minor >= 6:\n",
        "  print(\"Hello, World!\")\n",
        "  print(f\"Python version: {sys.version}\")\n",
        "else:\n",
        "  print(\"Please use Python 3.6 or higher.\")"
      ]
    },
    {
      "cell_type": "code",
      "source": [
        "# Mutable Data Type Example (List)\n",
        "my_list = [1, 2, 3]\n",
        "print(\"Original List:\", my_list)\n",
        "my_list.append(4)\n",
        "print(\"Modified List:\", my_list)\n",
        "my_tuple = (1, 2, 3)\n",
        "print(\"Original Tuple:\", my_tuple)"
      ],
      "metadata": {
        "colab": {
          "base_uri": "https://localhost:8080/"
        },
        "id": "PEO6NcVqM8wP",
        "outputId": "19392edc-fa72-424f-f99d-4c89eea832c8"
      },
      "execution_count": null,
      "outputs": [
        {
          "output_type": "stream",
          "name": "stdout",
          "text": [
            "Original List: [1, 2, 3]\n",
            "Modified List: [1, 2, 3, 4]\n",
            "Original Tuple: (1, 2, 3)\n"
          ]
        }
      ]
    },
    {
      "cell_type": "code",
      "source": [
        "age = 23 #int\n",
        "pi = 3.14 #float\n",
        "temperature = -5.5 #float\n",
        "print(\"data type of variable age = \", type(age))\n",
        "print(\"data type of variable pi = \", type(pi))\n",
        "print(\"data type of variable temperature = \", type(temperature))"
      ],
      "metadata": {
        "colab": {
          "base_uri": "https://localhost:8080/"
        },
        "id": "LylbXQi_M-bP",
        "outputId": "36ecc9af-2763-40e1-b96e-b53f0a002f75"
      },
      "execution_count": null,
      "outputs": [
        {
          "output_type": "stream",
          "name": "stdout",
          "text": [
            "data type of variable age =  <class 'int'>\n",
            "data type of variable pi =  <class 'float'>\n",
            "data type of variable temperature =  <class 'float'>\n"
          ]
        }
      ]
    },
    {
      "cell_type": "code",
      "source": [
        "name = \"Alice\"\n",
        "greeting = 'Hello'\n",
        "address = \"123 Main St\"\n",
        "print(\"data type of the variable name = \",type(name))\n",
        "print(\"data type of the variable greeting = \",type(greeting))\n",
        "print(\"data type of the variable address = \",type(address))\n",
        "# slice only one element\n",
        "print(\"The first letter of the name is:\", name[0])\n",
        "print(\"The last letter of the name is:\", name[-1])\n",
        "# slice a range of elements\n",
        "print(\"The second letter to the fourth of the name is:\", name[1:4])\n",
        "print(\"The first two letters of the name are:\", name[:2])\n",
        "print(\"Substring starting from the third letter is:\", name[2:])"
      ],
      "metadata": {
        "colab": {
          "base_uri": "https://localhost:8080/"
        },
        "id": "MkgM-lswM-Ry",
        "outputId": "cd472423-c660-4e68-cf41-65b56e685994"
      },
      "execution_count": null,
      "outputs": [
        {
          "output_type": "stream",
          "name": "stdout",
          "text": [
            "data type of the variable name =  <class 'str'>\n",
            "data type of the variable greeting =  <class 'str'>\n",
            "data type of the variable address =  <class 'str'>\n",
            "The first letter of the name is: A\n",
            "The last letter of the name is: e\n",
            "The second letter to the fourth of the name is: lic\n",
            "The first two letters of the name are: Al\n",
            "Substring starting from the third letter is: ice\n"
          ]
        }
      ]
    },
    {
      "cell_type": "code",
      "source": [
        "list1 = [1, 2, 3, 4]\n",
        "mixed_list = [12, \"Hello\", True]\n",
        "# List is mutable\n",
        "mixed_list[0] = False\n",
        "mixed_list"
      ],
      "metadata": {
        "colab": {
          "base_uri": "https://localhost:8080/"
        },
        "id": "2e2-W7YkM-GJ",
        "outputId": "95838275-41ec-4d3b-ece6-9f6193e292fe"
      },
      "execution_count": null,
      "outputs": [
        {
          "output_type": "execute_result",
          "data": {
            "text/plain": [
              "[False, 'Hello', True]"
            ]
          },
          "metadata": {},
          "execution_count": 5
        }
      ]
    },
    {
      "cell_type": "code",
      "source": [
        "colors = ('red', 'green', 'yellow', 'blue')\n",
        "print(\"First element:\", colors[0])\n",
        "print(\"Last two elements:\", colors[2:])\n",
        "print(\"Middle two elements:\", colors[1:3])"
      ],
      "metadata": {
        "colab": {
          "base_uri": "https://localhost:8080/"
        },
        "id": "Jl1pmNL6NICE",
        "outputId": "40ff30e3-3594-41d8-acec-a3310062973c"
      },
      "execution_count": null,
      "outputs": [
        {
          "output_type": "stream",
          "name": "stdout",
          "text": [
            "First element: red\n",
            "Last two elements: ('yellow', 'blue')\n",
            "Middle two elements: ('green', 'yellow')\n"
          ]
        }
      ]
    },
    {
      "cell_type": "code",
      "source": [
        "person = {'name':'John','age':30,'city':'Pittsburgh'}\n",
        "print(f\"Hello my name is {person['name']}. I am {person['age']} years old and I live at {person['city']}.\")\n",
        "print(\"All keys:\", list(person.keys()))\n",
        "print(\"All values:\", list(person.values()))"
      ],
      "metadata": {
        "colab": {
          "base_uri": "https://localhost:8080/"
        },
        "id": "8BztC6WbNJ0p",
        "outputId": "b9788a74-bb52-483c-c23a-bc1e7b508c08"
      },
      "execution_count": null,
      "outputs": [
        {
          "output_type": "stream",
          "name": "stdout",
          "text": [
            "Hello my name is John. I am 30 years old and I live at Pittsburgh.\n",
            "All keys: ['name', 'age', 'city']\n",
            "All values: ['John', 30, 'Pittsburgh']\n"
          ]
        }
      ]
    },
    {
      "cell_type": "code",
      "source": [
        "unique_numbers = {1,2,3,3,3,3,4,5}\n",
        "print(unique_numbers)"
      ],
      "metadata": {
        "colab": {
          "base_uri": "https://localhost:8080/"
        },
        "id": "vRcWC8ThNJkL",
        "outputId": "e38405db-2fef-476c-867f-df90bead3776"
      },
      "execution_count": null,
      "outputs": [
        {
          "output_type": "stream",
          "name": "stdout",
          "text": [
            "{1, 2, 3, 4, 5}\n"
          ]
        }
      ]
    },
    {
      "cell_type": "code",
      "source": [
        "is_student = True\n",
        "has_license = False\n",
        "print(\"data type of the variable is_student = \",type(is_student))\n",
        "print(\"data type of the variable has_license = \",type(has_license))"
      ],
      "metadata": {
        "colab": {
          "base_uri": "https://localhost:8080/"
        },
        "id": "FhbWYiAJNPD4",
        "outputId": "96f719b8-b18e-4a0e-a6f9-548290c6056c"
      },
      "execution_count": null,
      "outputs": [
        {
          "output_type": "stream",
          "name": "stdout",
          "text": [
            "data type of the variable is_student =  <class 'bool'>\n",
            "data type of the variable has_license =  <class 'bool'>\n"
          ]
        }
      ]
    },
    {
      "cell_type": "markdown",
      "source": [
        "## To-do task"
      ],
      "metadata": {
        "id": "Q4rpEqTjNbxL"
      }
    },
    {
      "cell_type": "markdown",
      "source": [
        "4.1 Exercise on function:"
      ],
      "metadata": {
        "id": "n02PvKI-NiDU"
      }
    },
    {
      "cell_type": "markdown",
      "source": [
        "# Task - 1:\n",
        "Create a Python program that converts between different units of measurement.\n",
        "• The program should:\n",
        "1. Prompt the user to choose the type of conversion (e.g., length, weight, volume).\n",
        "2. Ask the user to input the value to be converted.\n",
        "3. Perform the conversion and display the result.\n",
        "4. Handle potential errors, such as invalid input or unsupported conversion types.\n",
        "\n",
        "• Requirements:\n",
        "1. Functions: Define at least one function to perform the conversion.\n",
        "2. Error Handling: Use try-except blocks to handle invalid input (e.g., non-numeric values).\n",
        "3. User Input: Prompt the user to select the conversion type and input the value.\n",
        "4. Docstrings: Include a docstring in your function to describe its purpose, parameters, and\n",
        "return value.\n",
        "\n",
        "• Conversion Options:\n",
        "1. Length:\n",
        "– Convert meters (m) to feet (ft).\n",
        "– Convert feet (ft) to meters (m).\n",
        "2. Weight:\n",
        "– Convert kilograms (kg) to pounds (lbs).\n",
        "– Convert pounds (lbs) to kilograms (kg).\n",
        "3. Volume:\n",
        "– Convert liters (L) to gallons (gal).\n",
        "– Convert gallons (gal) to liters (L)."
      ],
      "metadata": {
        "id": "-ai_5iVdNtY_"
      }
    },
    {
      "cell_type": "code",
      "source": [
        "def Length(unit,value):\n",
        "  if unit==\"m\":\n",
        "    return value * 3.28084\n",
        "  elif unit==\"ft\":\n",
        "    return value * 0.3048\n",
        "  else:\n",
        "    raise ValueError(\"Invalid unit. Use 'm' or 'ft'.\")\n",
        "\n",
        "def Weight(unit,value):\n",
        "  if unit==\"kg\":\n",
        "    return value * 2.20462\n",
        "  elif unit==\"lbs\":\n",
        "    return value * 0.453592\n",
        "  else:\n",
        "    raise ValueError(\"Invalid unit. Use 'kg' or 'lbs'.\")\n",
        "\n",
        "def Volume(unit,value):\n",
        "  if unit==\"L\":\n",
        "    return value * 0.26417\n",
        "  elif unit==\"gal\":\n",
        "    return value * 3.78541\n",
        "  else:\n",
        "    raise ValueError(\"Invalid unit. Use 'L' or 'gal'.\")\n",
        "\n",
        "\n",
        "def main():\n",
        "  print(\"Choose a type of conversion: \\n 1.Length(m<->ft) \\n 2.Weight(kg<->lbs) \\n 3.Volume(L<->gal)\")\n",
        "  try:\n",
        "    choice = int(input(\"Enter your choice(1-3): \"));\n",
        "    if choice==1:\n",
        "      unit= input(\"Enter unit (m/ft): \").lower()\n",
        "      value= float(input(\"Enter value: \"))\n",
        "      result= Length(unit,value)\n",
        "      converted_unit=\"ft\" if unit ==\"m\" else \"m\"\n",
        "    elif choice==2:\n",
        "      unit= input(\"Enter unit (kg/lbs): \").lower()\n",
        "      value= float(input(\"Enter value: \"))\n",
        "      result= Weight(unit,value)\n",
        "      converted_unit=\"lbs\" if unit ==\"kg\" else \"kg\"\n",
        "    elif choice==3:\n",
        "      unit= input(\"Enter unit (L/gal): \").lower()\n",
        "      value= float(input(\"Enter value: \"))\n",
        "      result= Volume(unit,value)\n",
        "      converted_unit=\"gal\" if unit ==\"L\" else \"L\"\n",
        "    else:\n",
        "      print(\"Invalid choice\")\n",
        "      return\n",
        "\n",
        "    print(f\"Converted Value: {result:.2f} {converted_unit}\")\n",
        "  except ValueError:\n",
        "    print(\"Invalid input. Please enter a valid number.\")\n",
        "  except Exception as e:\n",
        "    print(f\"An error occurred: {e}\")\n",
        "\n",
        "if __name__==\"__main__\":\n",
        "  main()"
      ],
      "metadata": {
        "colab": {
          "base_uri": "https://localhost:8080/"
        },
        "id": "Q3malfL7NdxO",
        "outputId": "c5f144f0-534c-46a6-f6ba-fd75b649f08a"
      },
      "execution_count": null,
      "outputs": [
        {
          "output_type": "stream",
          "name": "stdout",
          "text": [
            "Choose a type of conversion: \n",
            " 1.Length(m<->ft) \n",
            " 2.Weight(kg<->lbs) \n",
            " 3.Volume(L<->gal)\n",
            "Enter your choice(1-3): 2\n",
            "Enter unit (kg/lbs): kg\n",
            "Enter value: 30\n",
            "Converted Value: 66.14 lbs\n"
          ]
        }
      ]
    },
    {
      "cell_type": "markdown",
      "source": [
        "# Task - 2:\n",
        "Create a Python program that performs various mathematical operations on a list of numbers.\n",
        "• The Program should:\n",
        "1. Prompt the user to choose an operation (e.g., find the sum, average, maximum, or minimum\n",
        "of the numbers).\n",
        "2. Ask the user to input a list of numbers (separated by spaces).\n",
        "3. Perform the selected operation and display the result.\n",
        "4. Handle potential errors, such as invalid input or empty lists.\n",
        "\n",
        "• Requirements:\n",
        "1. Functions: Define at least one function for each operation (sum, average, maximum, mini-\n",
        "mum).\n",
        "2. Error Handling: Use try-except blocks to handle invalid input (e.g., non-numeric values or\n",
        "empty lists).\n",
        "3. User Input: Prompt the user to select the operation and input the list of numbers.\n",
        "4. Docstrings: Include a docstring in each function to describe its purpose, parameters, and\n",
        "return value."
      ],
      "metadata": {
        "id": "ppoPjSGDOMq3"
      }
    },
    {
      "cell_type": "code",
      "source": [
        "def calculate_sum(numbers):\n",
        "    print(f\"Calculating sum for: {numbers}\")\n",
        "    return sum(numbers)\n",
        "\n",
        "def calculate_average(numbers):\n",
        "    print(f\"Calculating average for: {numbers}\")\n",
        "    return sum(numbers) / len(numbers) if numbers else 0\n",
        "\n",
        "def find_maximum(numbers):\n",
        "    print(f\"Finding maximum for: {numbers}\")\n",
        "    return max(numbers)\n",
        "\n",
        "def find_minimum(numbers):\n",
        "    print(f\"Finding minimum for: {numbers}\")\n",
        "    return min(numbers)\n",
        "\n",
        "\n",
        "def main():\n",
        "    print(\"Choose an operation: \\n1.Sum \\n2.Average \\n3.Maximum \\n4.Minimum\")\n",
        "    try:\n",
        "        choice = int(input(\"Enter your choice(1-4): \"))\n",
        "        if choice not in [1, 2, 3, 4]:\n",
        "            print(\"Invalid choice. Number should be between 1 and 4.\")\n",
        "            return\n",
        "\n",
        "        numbers = input(\"Enter a list of numbers (separated by spaces): \").split()\n",
        "        if not numbers:  # Handle case where input is empty\n",
        "            print(\"Invalid input. Please enter a non-empty list of numbers.\")\n",
        "            return\n",
        "\n",
        "        numbers = [float(num) for num in numbers]\n",
        "\n",
        "        if choice == 1:\n",
        "            result = calculate_sum(numbers)\n",
        "            print(f\"Sum: {result}\")\n",
        "        elif choice == 2:\n",
        "            result = calculate_average(numbers)\n",
        "            print(f\"Average: {result}\")\n",
        "        elif choice == 3:\n",
        "            result = find_maximum(numbers)\n",
        "            print(f\"Maximum: {result}\")\n",
        "        elif choice == 4:\n",
        "            result = find_minimum(numbers)\n",
        "            print(f\"Minimum: {result}\")\n",
        "\n",
        "    except ValueError:\n",
        "        print(\"Invalid input. Please enter numeric values only.\")\n",
        "    except Exception as e:\n",
        "        print(f\"An error occurred: {e}\")\n",
        "\n",
        "if __name__ == \"__main__\":\n",
        "    main()\n"
      ],
      "metadata": {
        "colab": {
          "base_uri": "https://localhost:8080/"
        },
        "id": "AsCZoO-gNRan",
        "outputId": "e6f822c6-5cad-4bff-8ec3-2382bc337cf1"
      },
      "execution_count": null,
      "outputs": [
        {
          "output_type": "stream",
          "name": "stdout",
          "text": [
            "Choose an operation: \n",
            "1.Sum \n",
            "2.Average \n",
            "3.Maximum \n",
            "4.Minimum\n",
            "Enter your choice(1-4): 3\n",
            "Enter a list of numbers (separated by spaces): 2 3\n",
            "Finding maximum for: [2.0, 3.0]\n",
            "Maximum: 3.0\n"
          ]
        }
      ]
    },
    {
      "cell_type": "markdown",
      "source": [
        "## 4.2 Exercise on List Manipulation:"
      ],
      "metadata": {
        "id": "RJ7vf6NTOhMG"
      }
    },
    {
      "cell_type": "markdown",
      "source": [
        "1. Extract Every Other Element:\n",
        "\n",
        "Write a Python function that extracts every other element from a list, starting from the first element."
      ],
      "metadata": {
        "id": "D2cV6MRdOi5e"
      }
    },
    {
      "cell_type": "code",
      "source": [
        "def extract_every_other(lst):\n",
        "  return lst[::2]\n",
        "\n",
        "print(extract_every_other([1,2,3,4,5,6]))"
      ],
      "metadata": {
        "colab": {
          "base_uri": "https://localhost:8080/"
        },
        "id": "WvTZC1EOOlHG",
        "outputId": "642c287b-5424-4a98-9fe9-297302848b3d"
      },
      "execution_count": null,
      "outputs": [
        {
          "output_type": "stream",
          "name": "stdout",
          "text": [
            "[1, 3, 5]\n"
          ]
        }
      ]
    },
    {
      "cell_type": "markdown",
      "source": [
        "2. Slice a Sublist:\n",
        "\n",
        "Write a Python function that returns a sublist from a given list, starting from a specified index and\n",
        "ending at another specified index."
      ],
      "metadata": {
        "id": "dRv9XxdoOplx"
      }
    },
    {
      "cell_type": "code",
      "source": [
        "def get_sublist(lst, start, end):\n",
        "  return lst[start:end+1]\n",
        "\n",
        "print(get_sublist([1,2,3,4,5,6],2,4))"
      ],
      "metadata": {
        "colab": {
          "base_uri": "https://localhost:8080/"
        },
        "id": "NGSyTMPmOq8G",
        "outputId": "ee5823b8-4f21-4345-88ed-f83f9bfc938a"
      },
      "execution_count": null,
      "outputs": [
        {
          "output_type": "stream",
          "name": "stdout",
          "text": [
            "[3, 4, 5]\n"
          ]
        }
      ]
    },
    {
      "cell_type": "markdown",
      "source": [
        "3. Reverse a List Using Slicing:\n",
        "\n",
        "Write a Python function that reverses a list using slicing."
      ],
      "metadata": {
        "id": "IVL5eUEdOzH3"
      }
    },
    {
      "cell_type": "code",
      "source": [
        "def reverse_list(lst):\n",
        "  return lst[::-1];\n",
        "\n",
        "print(reverse_list([1,2,3,4,5]))"
      ],
      "metadata": {
        "colab": {
          "base_uri": "https://localhost:8080/"
        },
        "id": "EZaDd8BqO0P3",
        "outputId": "9bb21756-c22b-4b44-fd9a-0cca004c23ec"
      },
      "execution_count": null,
      "outputs": [
        {
          "output_type": "stream",
          "name": "stdout",
          "text": [
            "[5, 4, 3, 2, 1]\n"
          ]
        }
      ]
    },
    {
      "cell_type": "markdown",
      "source": [
        "4. Remove the First and Last Elements:\n",
        "\n",
        "Write a Python function that removes the first and last elements of a list and returns the resulting\n",
        "sublist."
      ],
      "metadata": {
        "id": "wrkpPyfEO4QW"
      }
    },
    {
      "cell_type": "code",
      "source": [
        "def remove_first_last(lst):\n",
        "  return lst[1:-1]\n",
        "\n",
        "print(remove_first_last([1,2,3,4,5]))"
      ],
      "metadata": {
        "colab": {
          "base_uri": "https://localhost:8080/"
        },
        "id": "MvAbhxbUO47P",
        "outputId": "10d665cf-c188-400f-cc26-9c153bfaf0e3"
      },
      "execution_count": null,
      "outputs": [
        {
          "output_type": "stream",
          "name": "stdout",
          "text": [
            "[2, 3, 4]\n"
          ]
        }
      ]
    },
    {
      "cell_type": "markdown",
      "source": [
        "5. Get the First n Elements:\n",
        "\n",
        "Write a Python function that extracts the first n elements from a list."
      ],
      "metadata": {
        "id": "-26b3uB4O8MH"
      }
    },
    {
      "cell_type": "code",
      "source": [
        "def get_first_n(lst,n):\n",
        "  return lst[0:n]\n",
        "\n",
        "print(get_first_n([1,2,3,4,5],3))"
      ],
      "metadata": {
        "colab": {
          "base_uri": "https://localhost:8080/"
        },
        "id": "Rx9HmC1xPAuN",
        "outputId": "13b45b1a-1a65-457a-d555-62db3668e094"
      },
      "execution_count": null,
      "outputs": [
        {
          "output_type": "stream",
          "name": "stdout",
          "text": [
            "[1, 2, 3]\n"
          ]
        }
      ]
    },
    {
      "cell_type": "markdown",
      "source": [
        "6. Extract Elements from the End:\n",
        "\n",
        "Write a Python function that extracts the last n elements of a list using slicing."
      ],
      "metadata": {
        "id": "RszA7VxrPmwX"
      }
    },
    {
      "cell_type": "code",
      "source": [
        "def get_last_n(lst,n):\n",
        "  return lst[-n:]\n",
        "\n",
        "print(get_last_n([1,2,3,4,5],3))"
      ],
      "metadata": {
        "colab": {
          "base_uri": "https://localhost:8080/"
        },
        "id": "Pk75R96XPnnq",
        "outputId": "6e65ffd4-90ef-4239-b1d7-2354f263478b"
      },
      "execution_count": null,
      "outputs": [
        {
          "output_type": "stream",
          "name": "stdout",
          "text": [
            "[3, 4, 5]\n"
          ]
        }
      ]
    },
    {
      "cell_type": "markdown",
      "source": [
        "7. Extract Elements in Reverse Order:\n",
        "\n",
        "Write a Python function that extracts a list of elements in reverse order starting from the second-to-last\n",
        "element and skipping one element in between."
      ],
      "metadata": {
        "id": "4vLmNtUgPx5a"
      }
    },
    {
      "cell_type": "code",
      "source": [
        "def reverse_skip(lst):\n",
        "  return lst[-2::-2]\n",
        "\n",
        "print(reverse_skip([1,2,3,4,5,6]))"
      ],
      "metadata": {
        "colab": {
          "base_uri": "https://localhost:8080/"
        },
        "id": "fZKdxshRPxPL",
        "outputId": "8f171667-55cb-42d7-9b40-2f97b9fac6c9"
      },
      "execution_count": null,
      "outputs": [
        {
          "output_type": "stream",
          "name": "stdout",
          "text": [
            "[5, 3, 1]\n"
          ]
        }
      ]
    },
    {
      "cell_type": "markdown",
      "source": [
        "# Exercise on Nested List:"
      ],
      "metadata": {
        "id": "hefTAkQoP3eJ"
      }
    },
    {
      "cell_type": "markdown",
      "source": [
        "1. Flatten a Nested List:\n",
        "\n",
        "Write a Python function that takes a nested list and flattens it into a single list, where all the elements\n",
        "are in a single dimension."
      ],
      "metadata": {
        "id": "14KsWdakP_ZF"
      }
    },
    {
      "cell_type": "code",
      "source": [
        "def flatten(lst):\n",
        "  flat_list=[]\n",
        "  for sublist in lst:\n",
        "    flat_list.extend(sublist)\n",
        "  return flat_list\n",
        "\n",
        "print(flatten([[1,2],[3,4],[5]]))"
      ],
      "metadata": {
        "colab": {
          "base_uri": "https://localhost:8080/"
        },
        "id": "6QJpJdypQCqW",
        "outputId": "ba7e9a17-f3e1-4dee-86db-03765a1a1a68"
      },
      "execution_count": null,
      "outputs": [
        {
          "output_type": "stream",
          "name": "stdout",
          "text": [
            "[1, 2, 3, 4, 5]\n"
          ]
        }
      ]
    },
    {
      "cell_type": "markdown",
      "source": [
        "2. Accessing Nested List Elements:\n",
        "\n",
        "Write a Python function that extracts a specific element from a nested list given its indices."
      ],
      "metadata": {
        "id": "P-92ixJSQQTw"
      }
    },
    {
      "cell_type": "code",
      "source": [
        "def access_nested_element(lst, indices):\n",
        "  return lst[indices[0]][indices[1]]\n",
        "\n",
        "print(access_nested_element([[1,2,3],[4,5,6],[7,8,9]],[1,2]))"
      ],
      "metadata": {
        "colab": {
          "base_uri": "https://localhost:8080/"
        },
        "id": "D9XC1MxtQRTb",
        "outputId": "655d3f3b-36f8-4b01-ceca-c35b8a1e4567"
      },
      "execution_count": null,
      "outputs": [
        {
          "output_type": "stream",
          "name": "stdout",
          "text": [
            "6\n"
          ]
        }
      ]
    },
    {
      "cell_type": "markdown",
      "source": [
        "3. Sum of All Elements in a Nested List:\n",
        "\n",
        "Write a Python function that calculates the sum of all the numbers in a nested list (regardless of depth)."
      ],
      "metadata": {
        "id": "7ujN-5YaQWrP"
      }
    },
    {
      "cell_type": "code",
      "source": [
        "def sum_nested(lst):\n",
        "    total = 0\n",
        "\n",
        "    for element in lst:\n",
        "        if isinstance(element, list):\n",
        "            total += sum_nested(element)\n",
        "        else:\n",
        "            total += element\n",
        "    return total\n",
        "print(sum_nested([[1, 2], [3, [4, 5]], 6]))"
      ],
      "metadata": {
        "colab": {
          "base_uri": "https://localhost:8080/"
        },
        "id": "lFoWrsJbQXry",
        "outputId": "f376818d-cd2e-4579-814c-4369d264c8e5"
      },
      "execution_count": null,
      "outputs": [
        {
          "output_type": "stream",
          "name": "stdout",
          "text": [
            "21\n"
          ]
        }
      ]
    },
    {
      "cell_type": "markdown",
      "source": [
        "4. Remove Specific Element from a Nested List:\n",
        "\n",
        "Write a Python function that removes all occurrences of a specific element from a nested list."
      ],
      "metadata": {
        "id": "VEx4NcHEQgfN"
      }
    },
    {
      "cell_type": "code",
      "source": [
        "def remove_element(lst, elem):\n",
        "  result=[]\n",
        "\n",
        "  for item in lst:\n",
        "    if isinstance(item, list):\n",
        "      filtered_sublist= remove_element(item, elem)\n",
        "      if filtered_sublist:\n",
        "        result.append(filtered_sublist)\n",
        "    elif item != elem:\n",
        "      result.append(item)\n",
        "  return result\n",
        "\n",
        "print(remove_element([[1,2],[3,2],[4,5]],2))"
      ],
      "metadata": {
        "colab": {
          "base_uri": "https://localhost:8080/"
        },
        "id": "xXEGrq79QhS_",
        "outputId": "81978a3f-1a60-4750-9e01-462bcc9e2c20"
      },
      "execution_count": null,
      "outputs": [
        {
          "output_type": "stream",
          "name": "stdout",
          "text": [
            "[[1], [3], [4, 5]]\n"
          ]
        }
      ]
    },
    {
      "cell_type": "markdown",
      "source": [
        "5. Find the Maximum Element in a Nested List:\n",
        "\n",
        "Write a Python function that finds the maximum element in a nested list (regardless of depth).\n"
      ],
      "metadata": {
        "id": "GysxZzmoQnDG"
      }
    },
    {
      "cell_type": "code",
      "source": [
        "def find_max_in_nested_list(nested_list):\n",
        "    max_value = float('-inf')\n",
        "\n",
        "    for element in nested_list:\n",
        "        if isinstance(element, list):\n",
        "            max_value = max(max_value, find_max_in_nested_list(element))\n",
        "        else:\n",
        "            max_value = max(max_value, element)\n",
        "\n",
        "    return max_value\n",
        "\n",
        "nested_list = [1, [4, 6, [8, 3]], [10, [15, 2], 7], 5]\n",
        "print(\"Maximum element:\", find_max_in_nested_list(nested_list))\n"
      ],
      "metadata": {
        "colab": {
          "base_uri": "https://localhost:8080/"
        },
        "id": "u4eZFchrQnmq",
        "outputId": "757c6e51-b410-46f9-bed4-fc8eab508ee3"
      },
      "execution_count": null,
      "outputs": [
        {
          "output_type": "stream",
          "name": "stdout",
          "text": [
            "Maximum element: 15\n"
          ]
        }
      ]
    },
    {
      "cell_type": "markdown",
      "source": [
        "6. Count Occurrences of an Element in a Nested List:\n",
        "\n",
        "Write a Python function that counts how many times a specific element appears in a nested list."
      ],
      "metadata": {
        "id": "p_kv11PiQ0_0"
      }
    },
    {
      "cell_type": "code",
      "source": [
        "def count_occurrences(nested_list, target):\n",
        "    count = 0\n",
        "\n",
        "    for element in nested_list:\n",
        "        if isinstance(element, list):\n",
        "            count += count_occurrences(element, target)\n",
        "        elif element == target:\n",
        "            count += 1\n",
        "\n",
        "    return count\n",
        "\n",
        "nested_list = [1, [2, 3, [4, 2, 2]], [5, [2, 6], 2], 2]\n",
        "target_element = 2\n",
        "print(f\"Occurrences of {target_element}:\", count_occurrences(nested_list, target_element))\n"
      ],
      "metadata": {
        "id": "v5S1OGMiQ4P_",
        "colab": {
          "base_uri": "https://localhost:8080/"
        },
        "outputId": "687466c0-a695-4f67-dabc-eb659a8c2ea2"
      },
      "execution_count": null,
      "outputs": [
        {
          "output_type": "stream",
          "name": "stdout",
          "text": [
            "Occurrences of 2: 6\n"
          ]
        }
      ]
    },
    {
      "cell_type": "markdown",
      "source": [
        "7. Flatten a List of Lists of Lists:\n",
        "\n",
        "Write a Python function that flattens a list of lists of lists into a single list, regardless of the depth."
      ],
      "metadata": {
        "id": "VeO_D2fAQ7oH"
      }
    },
    {
      "cell_type": "code",
      "source": [
        "def flatten_list(nested_list):\n",
        "    flat_list = []\n",
        "\n",
        "    for element in nested_list:\n",
        "        if isinstance(element, list):\n",
        "            flat_list.extend(flatten_list(element))\n",
        "        else:\n",
        "            flat_list.append(element)\n",
        "\n",
        "    return flat_list\n",
        "\n",
        "nested_list = [1, [2, [3, 4], 5], [[6, 7], 8], 9]\n",
        "print(\"Flattened List:\", flatten_list(nested_list))\n"
      ],
      "metadata": {
        "id": "jEJB_IC6Q8Ry",
        "colab": {
          "base_uri": "https://localhost:8080/"
        },
        "outputId": "f1e995c3-81b9-417e-d4fe-4b8b82939f04"
      },
      "execution_count": 3,
      "outputs": [
        {
          "output_type": "stream",
          "name": "stdout",
          "text": [
            "Flattened List: [1, 2, 3, 4, 5, 6, 7, 8, 9]\n"
          ]
        }
      ]
    },
    {
      "cell_type": "markdown",
      "source": [
        "8. Nested List Average:\n",
        "\n",
        "Write a Python function that calculates the average of all elements in a nested list."
      ],
      "metadata": {
        "id": "8Kb1DJ6AQ-wu"
      }
    },
    {
      "cell_type": "code",
      "source": [
        "def calculate_average(nested_list):\n",
        "    total_sum = 0\n",
        "    total_count = 0\n",
        "\n",
        "    for element in nested_list:\n",
        "        if isinstance(element, list):\n",
        "            inner_sum, inner_count = calculate_average(element)\n",
        "            total_sum += inner_sum\n",
        "            total_count += inner_count\n",
        "        else:\n",
        "            total_sum += element\n",
        "            total_count += 1\n",
        "\n",
        "    return total_sum, total_count\n",
        "\n",
        "nested_list = [1, [2, [3, 4], 5], [[6, 7], 8], 9]\n",
        "sum_elements, count_elements = calculate_average(nested_list)\n",
        "average = sum_elements / count_elements if count_elements != 0 else 0\n",
        "print(\"Average:\", average)\n"
      ],
      "metadata": {
        "id": "h-13slYyRB3h",
        "colab": {
          "base_uri": "https://localhost:8080/"
        },
        "outputId": "2f05aef8-f29a-4e9d-83d9-3234153efdcb"
      },
      "execution_count": 4,
      "outputs": [
        {
          "output_type": "stream",
          "name": "stdout",
          "text": [
            "Average: 5.0\n"
          ]
        }
      ]
    },
    {
      "cell_type": "markdown",
      "source": [
        "# About a Numpy."
      ],
      "metadata": {
        "id": "P5TEf-s6RD6H"
      }
    },
    {
      "cell_type": "code",
      "source": [
        "import numpy as np\n",
        "# initialize an all zero array with size 2 X 3:\n",
        "zeros_arr = np.zeros((2,3))\n",
        "print(\" A zeros array is \\n\", zeros_arr, \"with dimensions\", zeros_arr.shape, \"\\n\")"
      ],
      "metadata": {
        "colab": {
          "base_uri": "https://localhost:8080/"
        },
        "id": "ryhPRl8-REne",
        "outputId": "4300f908-946d-46ae-edba-7c03133a6451"
      },
      "execution_count": null,
      "outputs": [
        {
          "output_type": "stream",
          "name": "stdout",
          "text": [
            " A zeros array is \n",
            " [[0. 0. 0.]\n",
            " [0. 0. 0.]] with dimensions (2, 3) \n",
            "\n"
          ]
        }
      ]
    },
    {
      "cell_type": "code",
      "source": [
        "import numpy as np\n",
        "# initialize an all zero array with size 2 X 3:\n",
        "zeros_arr = np.zeros((2,3))\n",
        "print(\" A zeros array is \\n\", zeros_arr, \"with dimensions\", zeros_arr.shape, \"\\n\")"
      ],
      "metadata": {
        "colab": {
          "base_uri": "https://localhost:8080/"
        },
        "id": "GC1mEmG-RIkt",
        "outputId": "49e3c510-a20e-4e68-8953-7193254938d5"
      },
      "execution_count": null,
      "outputs": [
        {
          "output_type": "stream",
          "name": "stdout",
          "text": [
            " A zeros array is \n",
            " [[0. 0. 0.]\n",
            " [0. 0. 0.]] with dimensions (2, 3) \n",
            "\n"
          ]
        }
      ]
    },
    {
      "cell_type": "code",
      "source": [],
      "metadata": {
        "id": "Q-mMKQ7aRISo"
      },
      "execution_count": null,
      "outputs": []
    }
  ]
}