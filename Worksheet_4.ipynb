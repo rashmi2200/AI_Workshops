{
  "nbformat": 4,
  "nbformat_minor": 0,
  "metadata": {
    "colab": {
      "provenance": []
    },
    "kernelspec": {
      "name": "python3",
      "display_name": "Python 3"
    },
    "language_info": {
      "name": "python"
    }
  },
  "cells": [
    {
      "cell_type": "markdown",
      "source": [
        "# Worksheet 4"
      ],
      "metadata": {
        "id": "bPC0xZQHNq0w"
      }
    },
    {
      "cell_type": "markdown",
      "source": [
        "# Introduction to Keras.\n",
        "Identifying the version of Keras."
      ],
      "metadata": {
        "id": "b7ADc34tN8qc"
      }
    },
    {
      "cell_type": "code",
      "execution_count": null,
      "metadata": {
        "id": "uLUX38BzMhZY",
        "colab": {
          "base_uri": "https://localhost:8080/"
        },
        "outputId": "e8a8eec7-6573-4a3f-e4b4-7644558749b1"
      },
      "outputs": [
        {
          "output_type": "stream",
          "name": "stdout",
          "text": [
            "3.8.0\n"
          ]
        }
      ],
      "source": [
        "import tensorflow as tf\n",
        "print(tf.keras.__version__)"
      ]
    },
    {
      "cell_type": "markdown",
      "source": [
        "1. NumPy Lacks Automatic Differentiation:\n",
        "\n",
        "Manual Gradient Calculation in Numpy"
      ],
      "metadata": {
        "id": "zd5GZXvFOYbY"
      }
    },
    {
      "cell_type": "code",
      "source": [
        "import numpy as np\n",
        "\n",
        "# Simple function f(x) = x^2\n",
        "def f(x):\n",
        "    return x ** 2\n",
        "\n",
        "# Manual derivative (f’(x) = 2x)\n",
        "def gradient(x):\n",
        "    return 2 * x\n",
        "\n",
        "# Update rule: x = x - learning_rate * gradient\n",
        "x = 5.0\n",
        "learning_rate = 0.1\n",
        "\n",
        "for _ in range(10):  # Manually optimize for 10 steps\n",
        "    x -= learning_rate * gradient(x)\n",
        "    print(f\"x: {x}, f(x): {f(x)}\")\n"
      ],
      "metadata": {
        "colab": {
          "base_uri": "https://localhost:8080/"
        },
        "id": "lEru4cAaOgxe",
        "outputId": "07ea74e1-a480-404c-e9ff-86b81650ac5e"
      },
      "execution_count": null,
      "outputs": [
        {
          "output_type": "stream",
          "name": "stdout",
          "text": [
            "x: 4.0, f(x): 16.0\n",
            "x: 3.2, f(x): 10.240000000000002\n",
            "x: 2.56, f(x): 6.5536\n",
            "x: 2.048, f(x): 4.194304\n",
            "x: 1.6384, f(x): 2.68435456\n",
            "x: 1.31072, f(x): 1.7179869184000003\n",
            "x: 1.0485760000000002, f(x): 1.0995116277760004\n",
            "x: 0.8388608000000002, f(x): 0.7036874417766403\n",
            "x: 0.6710886400000001, f(x): 0.45035996273704976\n",
            "x: 0.5368709120000001, f(x): 0.2882303761517119\n"
          ]
        }
      ]
    },
    {
      "cell_type": "markdown",
      "source": [
        "Gradient Computations with Keras.\n",
        "\n"
      ],
      "metadata": {
        "id": "BIgdeww8Pfnq"
      }
    },
    {
      "cell_type": "code",
      "source": [
        "import tensorflow as tf\n",
        "\n",
        "x = tf.Variable(5.0)  # Trainable variable\n",
        "\n",
        "with tf.GradientTape() as tape:\n",
        "    y = x ** 2  # y = x^2\n",
        "\n",
        "grad = tape.gradient(y, x)  # Computes dy/dx automatically\n",
        "print(grad.numpy())  # Output: 10.0\n"
      ],
      "metadata": {
        "colab": {
          "base_uri": "https://localhost:8080/"
        },
        "id": "lNr2N20VPi5s",
        "outputId": "a1bc12e8-77de-4bf9-9f3a-cec3f4965cac"
      },
      "execution_count": null,
      "outputs": [
        {
          "output_type": "stream",
          "name": "stdout",
          "text": [
            "10.0\n"
          ]
        }
      ]
    },
    {
      "cell_type": "markdown",
      "source": [
        "# Exercise: Building a Fully Connected Network (FCN) for Devnagari Digit Classification."
      ],
      "metadata": {
        "id": "5jXomn8mTI9w"
      }
    },
    {
      "cell_type": "code",
      "source": [
        "from google.colab import drive\n",
        "drive.mount('/content/drive')"
      ],
      "metadata": {
        "colab": {
          "base_uri": "https://localhost:8080/"
        },
        "id": "JXG-bWsmeTgG",
        "outputId": "e0b7ff64-40d7-466b-aff8-7e3d02b07bbf"
      },
      "execution_count": null,
      "outputs": [
        {
          "output_type": "stream",
          "name": "stdout",
          "text": [
            "Mounted at /content/drive\n"
          ]
        }
      ]
    },
    {
      "cell_type": "markdown",
      "source": [
        "# Task 1: Data Preparation\n",
        "Loading the Data\n",
        "• Download the provided folder that contains the Devnagari digits dataset.\n",
        "\n",
        "• Use the Python Imaging Library (PIL) to load and read the image files from the dataset.\n",
        "\n",
        "• Convert the images into Numpy arrays and normalize them to a range of 0-1.\n",
        "\n",
        "• use train folder for training and test for testing.\n",
        "\n",
        "• Extract the corresponding labels for each image.\n",
        "\n",
        "Hints:\n",
        "\n",
        "• Ensure that the images are resized to a consistent shape (e.g., 28x28).\n",
        "\n",
        "• Convert labels to one-hot encoded format for multi-class classification."
      ],
      "metadata": {
        "id": "KBx7bqfMTULm"
      }
    },
    {
      "cell_type": "code",
      "source": [
        "import os\n",
        "import numpy as np\n",
        "from PIL import Image\n",
        "from sklearn.preprocessing import LabelEncoder\n",
        "from tensorflow.keras.utils import to_categorical\n",
        "\n",
        "train_dir = '/content/drive/MyDrive/AI_AND_MACHINE_LEARNING/Workshop-4/DevanagariHandwrittenDigitDataset/Train'\n",
        "test_dir = '/content/drive/MyDrive/AI_AND_MACHINE_LEARNING/Workshop-4/DevanagariHandwrittenDigitDataset/Test'\n",
        "\n",
        "def load_images_and_labels(data_dir):\n",
        "    images = []\n",
        "    labels = []\n",
        "\n",
        "    for label in sorted(os.listdir(data_dir)):\n",
        "        label_path = os.path.join(data_dir, label)\n",
        "        if not os.path.isdir(label_path) or label.startswith('.'):\n",
        "            continue\n",
        "\n",
        "        for img_name in os.listdir(label_path):\n",
        "            img_path = os.path.join(label_path, img_name)\n",
        "            img = Image.open(img_path).convert('L')\n",
        "            img = img.resize((28, 28))\n",
        "            img_array = np.array(img) / 255.0\n",
        "            images.append(img_array)\n",
        "            labels.append(label)\n",
        "\n",
        "    return np.array(images), np.array(labels)\n",
        "\n",
        "X_train, y_train = load_images_and_labels(train_dir)\n",
        "X_test, y_test = load_images_and_labels(test_dir)\n",
        "\n",
        "X_train = X_train.reshape(-1, 28, 28, 1)\n",
        "X_test = X_test.reshape(-1, 28, 28, 1)\n",
        "\n",
        "label_encoder = LabelEncoder()\n",
        "y_train = label_encoder.fit_transform(y_train)\n",
        "y_test = label_encoder.transform(y_test)\n",
        "\n",
        "num_classes = len(label_encoder.classes_)\n",
        "y_train = to_categorical(y_train, num_classes=num_classes)\n",
        "y_test = to_categorical(y_test, num_classes=num_classes)\n",
        "\n",
        "print(f\"Training data shape: {X_train.shape}\")\n",
        "print(f\"Training labels shape: {y_train.shape}\")\n",
        "print(f\"Test data shape: {X_test.shape}\")\n",
        "print(f\"Test labels shape: {y_test.shape}\")\n"
      ],
      "metadata": {
        "id": "NBQiNhBTdwoY",
        "colab": {
          "base_uri": "https://localhost:8080/"
        },
        "outputId": "046b102b-086e-495b-e8f2-23ce5045cdc5"
      },
      "execution_count": 5,
      "outputs": [
        {
          "output_type": "stream",
          "name": "stdout",
          "text": [
            "Training data shape: (17090, 28, 28, 1)\n",
            "Training labels shape: (17090, 10)\n",
            "Test data shape: (3010, 28, 28, 1)\n",
            "Test labels shape: (3010, 10)\n"
          ]
        }
      ]
    },
    {
      "cell_type": "markdown",
      "source": [
        "# Task 2: Build the FCN Model Model Architecture\n",
        "• Create a Sequential model using Keras.\n",
        "\n",
        "• Add 3 hidden layers with the following number of neurons:\n",
        "– 1st hidden layer: 64 neurons\n",
        "– 2nd hidden layer: 128 neurons\n",
        "– 3rd hidden layer: 256 neurons\n",
        "\n",
        "• Use sigmoid activation functions for all hidden layers.\n",
        "\n",
        "• Add an output layer with 10 units with softmax (since Devnagari digits have 10 classes) and a\n",
        "softmax activation function."
      ],
      "metadata": {
        "id": "FXejArlfVwOY"
      }
    },
    {
      "cell_type": "code",
      "source": [
        "from tensorflow.keras.models import Sequential\n",
        "from tensorflow.keras.layers import Dense, Flatten, Input\n",
        "\n",
        "def build_fcn_model(input_shape):\n",
        "    model = Sequential()\n",
        "    model.add(Input(shape=input_shape))\n",
        "    model.add(Flatten())\n",
        "    model.add(Dense(64, activation='sigmoid'))\n",
        "    model.add(Dense(128, activation='sigmoid'))\n",
        "    model.add(Dense(256, activation='sigmoid'))\n",
        "    model.add(Dense(10, activation='softmax'))\n",
        "    model.compile(optimizer='adam', loss='categorical_crossentropy', metrics=['accuracy'])\n",
        "    return model\n",
        "\n",
        "model = build_fcn_model((28, 28, 1))\n",
        "model.summary()\n"
      ],
      "metadata": {
        "colab": {
          "base_uri": "https://localhost:8080/",
          "height": 289
        },
        "id": "TmAU3qegVvXE",
        "outputId": "85713d90-730e-42a7-a6e1-84518dda9cae"
      },
      "execution_count": 6,
      "outputs": [
        {
          "output_type": "display_data",
          "data": {
            "text/plain": [
              "\u001b[1mModel: \"sequential\"\u001b[0m\n"
            ],
            "text/html": [
              "<pre style=\"white-space:pre;overflow-x:auto;line-height:normal;font-family:Menlo,'DejaVu Sans Mono',consolas,'Courier New',monospace\"><span style=\"font-weight: bold\">Model: \"sequential\"</span>\n",
              "</pre>\n"
            ]
          },
          "metadata": {}
        },
        {
          "output_type": "display_data",
          "data": {
            "text/plain": [
              "┏━━━━━━━━━━━━━━━━━━━━━━━━━━━━━━━━━━━━━━┳━━━━━━━━━━━━━━━━━━━━━━━━━━━━━┳━━━━━━━━━━━━━━━━━┓\n",
              "┃\u001b[1m \u001b[0m\u001b[1mLayer (type)                        \u001b[0m\u001b[1m \u001b[0m┃\u001b[1m \u001b[0m\u001b[1mOutput Shape               \u001b[0m\u001b[1m \u001b[0m┃\u001b[1m \u001b[0m\u001b[1m        Param #\u001b[0m\u001b[1m \u001b[0m┃\n",
              "┡━━━━━━━━━━━━━━━━━━━━━━━━━━━━━━━━━━━━━━╇━━━━━━━━━━━━━━━━━━━━━━━━━━━━━╇━━━━━━━━━━━━━━━━━┩\n",
              "│ flatten (\u001b[38;5;33mFlatten\u001b[0m)                    │ (\u001b[38;5;45mNone\u001b[0m, \u001b[38;5;34m784\u001b[0m)                 │               \u001b[38;5;34m0\u001b[0m │\n",
              "├──────────────────────────────────────┼─────────────────────────────┼─────────────────┤\n",
              "│ dense (\u001b[38;5;33mDense\u001b[0m)                        │ (\u001b[38;5;45mNone\u001b[0m, \u001b[38;5;34m64\u001b[0m)                  │          \u001b[38;5;34m50,240\u001b[0m │\n",
              "├──────────────────────────────────────┼─────────────────────────────┼─────────────────┤\n",
              "│ dense_1 (\u001b[38;5;33mDense\u001b[0m)                      │ (\u001b[38;5;45mNone\u001b[0m, \u001b[38;5;34m128\u001b[0m)                 │           \u001b[38;5;34m8,320\u001b[0m │\n",
              "├──────────────────────────────────────┼─────────────────────────────┼─────────────────┤\n",
              "│ dense_2 (\u001b[38;5;33mDense\u001b[0m)                      │ (\u001b[38;5;45mNone\u001b[0m, \u001b[38;5;34m256\u001b[0m)                 │          \u001b[38;5;34m33,024\u001b[0m │\n",
              "├──────────────────────────────────────┼─────────────────────────────┼─────────────────┤\n",
              "│ dense_3 (\u001b[38;5;33mDense\u001b[0m)                      │ (\u001b[38;5;45mNone\u001b[0m, \u001b[38;5;34m10\u001b[0m)                  │           \u001b[38;5;34m2,570\u001b[0m │\n",
              "└──────────────────────────────────────┴─────────────────────────────┴─────────────────┘\n"
            ],
            "text/html": [
              "<pre style=\"white-space:pre;overflow-x:auto;line-height:normal;font-family:Menlo,'DejaVu Sans Mono',consolas,'Courier New',monospace\">┏━━━━━━━━━━━━━━━━━━━━━━━━━━━━━━━━━━━━━━┳━━━━━━━━━━━━━━━━━━━━━━━━━━━━━┳━━━━━━━━━━━━━━━━━┓\n",
              "┃<span style=\"font-weight: bold\"> Layer (type)                         </span>┃<span style=\"font-weight: bold\"> Output Shape                </span>┃<span style=\"font-weight: bold\">         Param # </span>┃\n",
              "┡━━━━━━━━━━━━━━━━━━━━━━━━━━━━━━━━━━━━━━╇━━━━━━━━━━━━━━━━━━━━━━━━━━━━━╇━━━━━━━━━━━━━━━━━┩\n",
              "│ flatten (<span style=\"color: #0087ff; text-decoration-color: #0087ff\">Flatten</span>)                    │ (<span style=\"color: #00d7ff; text-decoration-color: #00d7ff\">None</span>, <span style=\"color: #00af00; text-decoration-color: #00af00\">784</span>)                 │               <span style=\"color: #00af00; text-decoration-color: #00af00\">0</span> │\n",
              "├──────────────────────────────────────┼─────────────────────────────┼─────────────────┤\n",
              "│ dense (<span style=\"color: #0087ff; text-decoration-color: #0087ff\">Dense</span>)                        │ (<span style=\"color: #00d7ff; text-decoration-color: #00d7ff\">None</span>, <span style=\"color: #00af00; text-decoration-color: #00af00\">64</span>)                  │          <span style=\"color: #00af00; text-decoration-color: #00af00\">50,240</span> │\n",
              "├──────────────────────────────────────┼─────────────────────────────┼─────────────────┤\n",
              "│ dense_1 (<span style=\"color: #0087ff; text-decoration-color: #0087ff\">Dense</span>)                      │ (<span style=\"color: #00d7ff; text-decoration-color: #00d7ff\">None</span>, <span style=\"color: #00af00; text-decoration-color: #00af00\">128</span>)                 │           <span style=\"color: #00af00; text-decoration-color: #00af00\">8,320</span> │\n",
              "├──────────────────────────────────────┼─────────────────────────────┼─────────────────┤\n",
              "│ dense_2 (<span style=\"color: #0087ff; text-decoration-color: #0087ff\">Dense</span>)                      │ (<span style=\"color: #00d7ff; text-decoration-color: #00d7ff\">None</span>, <span style=\"color: #00af00; text-decoration-color: #00af00\">256</span>)                 │          <span style=\"color: #00af00; text-decoration-color: #00af00\">33,024</span> │\n",
              "├──────────────────────────────────────┼─────────────────────────────┼─────────────────┤\n",
              "│ dense_3 (<span style=\"color: #0087ff; text-decoration-color: #0087ff\">Dense</span>)                      │ (<span style=\"color: #00d7ff; text-decoration-color: #00d7ff\">None</span>, <span style=\"color: #00af00; text-decoration-color: #00af00\">10</span>)                  │           <span style=\"color: #00af00; text-decoration-color: #00af00\">2,570</span> │\n",
              "└──────────────────────────────────────┴─────────────────────────────┴─────────────────┘\n",
              "</pre>\n"
            ]
          },
          "metadata": {}
        },
        {
          "output_type": "display_data",
          "data": {
            "text/plain": [
              "\u001b[1m Total params: \u001b[0m\u001b[38;5;34m94,154\u001b[0m (367.79 KB)\n"
            ],
            "text/html": [
              "<pre style=\"white-space:pre;overflow-x:auto;line-height:normal;font-family:Menlo,'DejaVu Sans Mono',consolas,'Courier New',monospace\"><span style=\"font-weight: bold\"> Total params: </span><span style=\"color: #00af00; text-decoration-color: #00af00\">94,154</span> (367.79 KB)\n",
              "</pre>\n"
            ]
          },
          "metadata": {}
        },
        {
          "output_type": "display_data",
          "data": {
            "text/plain": [
              "\u001b[1m Trainable params: \u001b[0m\u001b[38;5;34m94,154\u001b[0m (367.79 KB)\n"
            ],
            "text/html": [
              "<pre style=\"white-space:pre;overflow-x:auto;line-height:normal;font-family:Menlo,'DejaVu Sans Mono',consolas,'Courier New',monospace\"><span style=\"font-weight: bold\"> Trainable params: </span><span style=\"color: #00af00; text-decoration-color: #00af00\">94,154</span> (367.79 KB)\n",
              "</pre>\n"
            ]
          },
          "metadata": {}
        },
        {
          "output_type": "display_data",
          "data": {
            "text/plain": [
              "\u001b[1m Non-trainable params: \u001b[0m\u001b[38;5;34m0\u001b[0m (0.00 B)\n"
            ],
            "text/html": [
              "<pre style=\"white-space:pre;overflow-x:auto;line-height:normal;font-family:Menlo,'DejaVu Sans Mono',consolas,'Courier New',monospace\"><span style=\"font-weight: bold\"> Non-trainable params: </span><span style=\"color: #00af00; text-decoration-color: #00af00\">0</span> (0.00 B)\n",
              "</pre>\n"
            ]
          },
          "metadata": {}
        }
      ]
    },
    {
      "cell_type": "markdown",
      "source": [
        "# Task 3: Compile the Model Model Compilation\n",
        "• Choose an appropriate optimizer (e.g., Adam), loss function (e.g., sparse categorical crossentropy),\n",
        "and evaluation metric (e.g., accuracy)."
      ],
      "metadata": {
        "id": "MvCGeo-NWDXr"
      }
    },
    {
      "cell_type": "code",
      "source": [
        "model.compile(optimizer='adam', loss='categorical_crossentropy', metrics=['accuracy'])\n"
      ],
      "metadata": {
        "id": "9GP1FmrhWJRM"
      },
      "execution_count": 7,
      "outputs": []
    },
    {
      "cell_type": "markdown",
      "source": [
        "# Task 4: Train the Model\n",
        "Model Training\n",
        "• Use the model.fit() function to train the model. Set the batch size to 128 and the number of\n",
        "epochs to 20.\n",
        "\n",
        "• Use validation split (validation split=0.2) to monitor the model’s performance on validation\n",
        "data.\n",
        "\n",
        "• Optionally, use callbacks such as ModelCheckpoint and EarlyStopping for saving the best model\n",
        "and avoiding overfitting."
      ],
      "metadata": {
        "id": "PgzFYgdVW6Uk"
      }
    },
    {
      "cell_type": "code",
      "source": [
        "from tensorflow.keras.callbacks import ModelCheckpoint, EarlyStopping\n",
        "\n",
        "checkpoint_callback = ModelCheckpoint('best_model.keras',\n",
        "                                      save_best_only=True,\n",
        "                                      monitor='val_loss',\n",
        "                                      mode='min',\n",
        "                                      verbose=1)\n",
        "\n",
        "\n",
        "early_stopping_callback = EarlyStopping(monitor='val_loss',\n",
        "                                        patience=3,\n",
        "                                        mode='min',\n",
        "                                        verbose=1)\n",
        "\n",
        "history = model.fit(\n",
        "    X_train, y_train,\n",
        "    batch_size=128,\n",
        "    epochs=20,\n",
        "    validation_split=0.2,\n",
        "    callbacks=[checkpoint_callback, early_stopping_callback],\n",
        "    verbose=2\n",
        ")\n"
      ],
      "metadata": {
        "colab": {
          "base_uri": "https://localhost:8080/"
        },
        "id": "PVy4ch78XDmR",
        "outputId": "f8e4295b-85a4-4b99-85eb-d8054c797641"
      },
      "execution_count": 8,
      "outputs": [
        {
          "output_type": "stream",
          "name": "stdout",
          "text": [
            "Epoch 1/20\n",
            "\n",
            "Epoch 1: val_loss improved from inf to 6.32329, saving model to best_model.keras\n",
            "107/107 - 3s - 25ms/step - accuracy: 0.3918 - loss: 1.7706 - val_accuracy: 0.0023 - val_loss: 6.3233\n",
            "Epoch 2/20\n",
            "\n",
            "Epoch 2: val_loss did not improve from 6.32329\n",
            "107/107 - 1s - 6ms/step - accuracy: 0.8094 - loss: 0.5991 - val_accuracy: 0.0020 - val_loss: 7.4018\n",
            "Epoch 3/20\n",
            "\n",
            "Epoch 3: val_loss did not improve from 6.32329\n",
            "107/107 - 1s - 7ms/step - accuracy: 0.8908 - loss: 0.3151 - val_accuracy: 0.0023 - val_loss: 8.0509\n",
            "Epoch 4/20\n",
            "\n",
            "Epoch 4: val_loss did not improve from 6.32329\n",
            "107/107 - 1s - 7ms/step - accuracy: 0.9430 - loss: 0.2043 - val_accuracy: 0.0023 - val_loss: 8.4838\n",
            "Epoch 4: early stopping\n"
          ]
        }
      ]
    },
    {
      "cell_type": "markdown",
      "source": [
        "# Task 5: Evaluate the Model\n",
        "Model Evaluation\n",
        "\n",
        "• After training, evaluate the model using model.evaluate() on the test set to check the test\n",
        "accuracy and loss."
      ],
      "metadata": {
        "id": "c4RPP90oXEFG"
      }
    },
    {
      "cell_type": "code",
      "source": [
        "test_loss, test_accuracy = model.evaluate(X_test, y_test, verbose=2)\n",
        "\n",
        "print(f\"Test Loss: {test_loss}\")\n",
        "print(f\"Test Accuracy: {test_accuracy}\")\n"
      ],
      "metadata": {
        "id": "14zHiBqyXJEs",
        "colab": {
          "base_uri": "https://localhost:8080/"
        },
        "outputId": "f4050cc3-8b46-42de-d9ae-95718cb1fbc0"
      },
      "execution_count": 9,
      "outputs": [
        {
          "output_type": "stream",
          "name": "stdout",
          "text": [
            "95/95 - 0s - 5ms/step - accuracy: 0.7598 - loss: 1.8446\n",
            "Test Loss: 1.8445740938186646\n",
            "Test Accuracy: 0.7598006725311279\n"
          ]
        }
      ]
    },
    {
      "cell_type": "markdown",
      "source": [
        "# Task 6: Save and Load the Model\n",
        "Model Saving and Loading\n",
        "\n",
        "• Save the trained model to an .h5 file using model.save().\n",
        "\n",
        "• Load the saved model and re-evaluate its performance on the test set."
      ],
      "metadata": {
        "id": "PKSdOllUXJqa"
      }
    },
    {
      "cell_type": "code",
      "source": [
        "model.save('trained_model.h5')\n",
        "\n",
        "from tensorflow.keras.models import load_model\n",
        "\n",
        "loaded_model = load_model('trained_model.h5')\n",
        "\n",
        "test_loss, test_accuracy = loaded_model.evaluate(X_test, y_test, verbose=2)\n",
        "\n",
        "print(f\"Test Loss (Loaded Model): {test_loss}\")\n",
        "print(f\"Test Accuracy (Loaded Model): {test_accuracy}\")\n"
      ],
      "metadata": {
        "id": "x1y_T1E3XOgn",
        "colab": {
          "base_uri": "https://localhost:8080/"
        },
        "outputId": "c922b805-938a-4abe-9024-b6d1948b4c68"
      },
      "execution_count": 10,
      "outputs": [
        {
          "output_type": "stream",
          "name": "stderr",
          "text": [
            "WARNING:absl:You are saving your model as an HDF5 file via `model.save()` or `keras.saving.save_model(model)`. This file format is considered legacy. We recommend using instead the native Keras format, e.g. `model.save('my_model.keras')` or `keras.saving.save_model(model, 'my_model.keras')`. \n",
            "WARNING:absl:Compiled the loaded model, but the compiled metrics have yet to be built. `model.compile_metrics` will be empty until you train or evaluate the model.\n"
          ]
        },
        {
          "output_type": "stream",
          "name": "stdout",
          "text": [
            "95/95 - 1s - 6ms/step - accuracy: 0.7598 - loss: 1.8446\n",
            "Test Loss (Loaded Model): 1.8445740938186646\n",
            "Test Accuracy (Loaded Model): 0.7598006725311279\n"
          ]
        }
      ]
    },
    {
      "cell_type": "markdown",
      "source": [
        "# Task 7: Predictions\n",
        "Making Predictions\n",
        "\n",
        "• Use model.predict() to make predictions on test images.\n",
        "\n",
        "• Convert the model’s predicted probabilities to digit labels using np.argmax()."
      ],
      "metadata": {
        "id": "jO0Ro7pVXO6l"
      }
    },
    {
      "cell_type": "code",
      "source": [
        "predictions = loaded_model.predict(X_test)\n",
        "predicted_labels = np.argmax(predictions, axis=1)\n",
        "print(\"Predicted Labels (First 10):\", predicted_labels[:10])\n"
      ],
      "metadata": {
        "id": "qNKwN8WhXWUd",
        "colab": {
          "base_uri": "https://localhost:8080/"
        },
        "outputId": "c8a40bc9-c8aa-4d1f-a454-3c5ba02e35bf"
      },
      "execution_count": 11,
      "outputs": [
        {
          "output_type": "stream",
          "name": "stdout",
          "text": [
            "\u001b[1m95/95\u001b[0m \u001b[32m━━━━━━━━━━━━━━━━━━━━\u001b[0m\u001b[37m\u001b[0m \u001b[1m0s\u001b[0m 2ms/step\n",
            "Predicted Labels (First 10): [0 0 0 0 0 0 0 0 0 0]\n"
          ]
        }
      ]
    },
    {
      "cell_type": "markdown",
      "source": [
        "# Visualization: Training and Validation Loss and Accuracy"
      ],
      "metadata": {
        "id": "VRq96f7X-uMk"
      }
    },
    {
      "cell_type": "code",
      "source": [
        "import matplotlib.pyplot as plt\n",
        "\n",
        "plt.figure(figsize=(12, 6))\n",
        "\n",
        "plt.subplot(1, 2, 1)\n",
        "plt.plot(history.history['loss'], label='Train Loss')\n",
        "plt.plot(history.history['val_loss'], label='Validation Loss')\n",
        "plt.title('Training and Validation Loss')\n",
        "plt.xlabel('Epochs')\n",
        "plt.ylabel('Loss')\n",
        "plt.legend()\n",
        "\n",
        "plt.subplot(1, 2, 2)\n",
        "plt.plot(history.history['accuracy'], label='Train Accuracy')\n",
        "plt.plot(history.history['val_accuracy'], label='Validation Accuracy')\n",
        "plt.title('Training and Validation Accuracy')\n",
        "plt.xlabel('Epochs')\n",
        "plt.ylabel('Accuracy')\n",
        "plt.legend()\n",
        "\n",
        "plt.tight_layout()\n",
        "plt.show()\n"
      ],
      "metadata": {
        "colab": {
          "base_uri": "https://localhost:8080/",
          "height": 569
        },
        "id": "1P4TQSSR-vZi",
        "outputId": "7f472e99-9a90-4b19-a818-7023598cea5c"
      },
      "execution_count": 12,
      "outputs": [
        {
          "output_type": "display_data",
          "data": {
            "text/plain": [
              "<Figure size 1200x600 with 2 Axes>"
            ],
            "image/png": "[encoded data removed]"
          },
          "metadata": {}
        }
      ]
    }
  ]
}