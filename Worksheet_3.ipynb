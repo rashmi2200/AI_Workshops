{
  "nbformat": 4,
  "nbformat_minor": 0,
  "metadata": {
    "colab": {
      "provenance": []
    },
    "kernelspec": {
      "name": "python3",
      "display_name": "Python 3"
    },
    "language_info": {
      "name": "python"
    }
  },
  "cells": [
    {
      "cell_type": "markdown",
      "source": [
        "# 1. Load the Dataset"
      ],
      "metadata": {
        "id": "HSfyYFEhvjxI"
      }
    },
    {
      "cell_type": "code",
      "execution_count": null,
      "metadata": {
        "id": "WQ9ALGo3sRu4",
        "colab": {
          "base_uri": "https://localhost:8080/"
        },
        "outputId": "033e7f12-8bc7-4d13-911f-b442714f9d32"
      },
      "outputs": [
        {
          "output_type": "stream",
          "name": "stdout",
          "text": [
            "Feature matrix shape: (12665, 784)\n",
            "Label vector shape: (12665,)\n"
          ]
        }
      ],
      "source": [
        " import pandas as pd\n",
        " import numpy as np\n",
        " # Load the dataset\n",
        " df_0_1 = pd.read_csv(\"/content/drive/MyDrive/AI_AND_MACHINE_LEARNING/Workshop-3/mnist_0_and_1.csv\")\n",
        " # Extract features and labels\n",
        " X = df_0_1.drop(columns=[\"label\"]).values # 784 pixels\n",
        " y = df_0_1[\"label\"].values # Labels (0 or 1)\n",
        " # Check the shape of the features and labels\n",
        " print(\"Feature matrix shape:\", X.shape)\n",
        " print(\"Label vector shape:\", y.shape)"
      ]
    },
    {
      "cell_type": "markdown",
      "source": [
        " Question- 1:\n",
        "\n",
        " What does the shape of X represent ?\n",
        "\n",
        "The shape of X represents the number of images (rows) and the number of pixels per image (columns).\n",
        "\n",
        " Question- 2:\n",
        "\n",
        " What does the shape of y represent ?\n",
        "\n",
        " The shape of y represents the number of labels, which is equal to the number of images. Each value in y is either 0 or 1, indicating the digit in the image."
      ],
      "metadata": {
        "id": "ZOTzQnJSwCdJ"
      }
    },
    {
      "cell_type": "markdown",
      "source": [
        "# Task - 1: Implementation of MCP Neurons:"
      ],
      "metadata": {
        "id": "XLYzH2w-tQPv"
      }
    },
    {
      "cell_type": "markdown",
      "source": [
        "1. Design a MCP Neuron for ”AND” Boolean Functions and ”OR” Boolean Functions with two inputs: Hint:\n",
        "•\tAggregate all the inputs.\n",
        "•\tHandcraft a Threshold values for ”AND” and ”OR” Function.\n",
        "•\tImplement a ifelse statement as stated above.\n",
        "You may use code base provided below or write your own code from scratch:\n",
        "For ”AND” Operations.\n"
      ],
      "metadata": {
        "id": "Mcqpi46xtT-L"
      }
    },
    {
      "cell_type": "code",
      "source": [
        "def MCP_Neurons_AND(X1, X2, T=2):\n",
        "    \"\"\"\n",
        "    Implements basic AND operation using an MCP Neuron.\n",
        "\n",
        "    Arguments:\n",
        "    X1 (list): A list of binary values.\n",
        "    X2 (list): A list of binary values.\n",
        "    T (int): Threshold value for activation (default is 2 for AND).\n",
        "\n",
        "    Returns:\n",
        "    list: Neuron state (1 or 0) for each input pair.\n",
        "    \"\"\"\n",
        "    assert len(X1) == len(X2), \"Input lists must be of the same length.\"\n",
        "\n",
        "    state_neuron = []\n",
        "    for i in range(len(X1)):\n",
        "        sum_inputs = X1[i] + X2[i]\n",
        "        if sum_inputs >= T:\n",
        "            state_neuron.append(1)\n",
        "        else:\n",
        "            state_neuron.append(0)\n",
        "\n",
        "    return state_neuron\n",
        "\n",
        "def MCP_Neurons_OR(X1, X2, T=1):\n",
        "    \"\"\"\n",
        "    Implements basic OR operation using an MCP Neuron.\n",
        "\n",
        "    Arguments:\n",
        "    X1 (list): A list of binary values.\n",
        "    X2 (list): A list of binary values.\n",
        "    T (int): Threshold value for activation (default is 1 for OR).\n",
        "\n",
        "    Returns:\n",
        "    list: Neuron state (1 or 0) for each input pair.\n",
        "    \"\"\"\n",
        "    assert len(X1) == len(X2), \"Input lists must be of the same length.\"\n",
        "\n",
        "    state_neuron = []\n",
        "    for i in range(len(X1)):\n",
        "        sum_inputs = X1[i] + X2[i]\n",
        "        if sum_inputs >= T:\n",
        "            state_neuron.append(1)\n",
        "        else:\n",
        "            state_neuron.append(0)\n",
        "\n",
        "    return state_neuron\n",
        "\n",
        "# Example Test Cases\n",
        "X1 = [0, 0, 1, 1]\n",
        "X2 = [0, 1, 0, 1]\n",
        "\n",
        "print(\"AND Operation:\", MCP_Neurons_AND(X1, X2))\n",
        "print(\"OR Operation:\", MCP_Neurons_OR(X1, X2))\n"
      ],
      "metadata": {
        "id": "0hzyTYXMtarR",
        "colab": {
          "base_uri": "https://localhost:8080/"
        },
        "outputId": "c11db9ac-4d58-45da-8090-b382db76fe19"
      },
      "execution_count": null,
      "outputs": [
        {
          "output_type": "stream",
          "name": "stdout",
          "text": [
            "AND Operation: [0, 0, 0, 1]\n",
            "OR Operation: [0, 1, 1, 1]\n"
          ]
        }
      ]
    },
    {
      "cell_type": "markdown",
      "source": [
        "# Answer the Following Question:"
      ],
      "metadata": {
        "id": "DCy-FCbStu53"
      }
    },
    {
      "cell_type": "markdown",
      "source": [
        " • You can use Text cell of your notebook to answer the question.\n",
        " • Question- 1: List out all the limitations of MCP- Neurons.\n",
        " • Question- 2: Think if you can develop a logic to solve for XOR function using MCP Neuron.\n",
        " {Can you devise a if else rules.}"
      ],
      "metadata": {
        "id": "DKnceVUptxM6"
      }
    },
    {
      "cell_type": "markdown",
      "source": [
        "Question:1 List out all the limitations of MCP- Neurons"
      ],
      "metadata": {
        "id": "TtJ1kDvJuJu3"
      }
    },
    {
      "cell_type": "markdown",
      "source": [
        "1. Cannot Solve Non-Linearly Separable Problems\n",
        "Ans-\n",
        "MCP neurons can only handle linearly separable problems like AND and OR. They fail for functions like XOR, which require more complex decision boundaries.\n",
        "\n",
        "2. No Learning Capability\n",
        "The weights and threshold in MCP neurons are manually set and do not adjust based on data. Unlike modern neural networks, MCP neurons cannot learn from experience.\n",
        "\n",
        "3. Binary Inputs and Outputs\n",
        "MCP neurons only work with binary (0 or 1) inputs and outputs, making them unsuitable for real-world applications that require continuous values.\n",
        "\n",
        "4. Rigid Thresholding\n",
        "5. No concept of weights"
      ],
      "metadata": {
        "id": "EbiCkCljuRYE"
      }
    },
    {
      "cell_type": "markdown",
      "source": [
        "Question-2\n",
        "\n",
        "Think if you can develop a logic to solve for XOR function using MCP Neuron.\n",
        " {Can you devise a if else rules.}"
      ],
      "metadata": {
        "id": "QNKyM0ZQuukK"
      }
    },
    {
      "cell_type": "markdown",
      "source": [
        "The XOR function is not linearly separable, meaning a single MCP neuron cannot solve it. However, we can combine multiple MCP neurons to implement XOR.\n",
        "\n",
        "Truth Table for XOR\n",
        "\n",
        "X1\tX2\tAND(X1, X2)\tOR(X1, X2)\tXOR Output\n",
        "\n",
        "0\t0\t0\t0\t0\n",
        "\n",
        "0\t1\t0\t1\t1\n",
        "\n",
        "1\t0\t0\t1\t1\n",
        "\n",
        "1\t1\t1\t1\t0"
      ],
      "metadata": {
        "id": "tIWSIxkpu9xQ"
      }
    },
    {
      "cell_type": "markdown",
      "source": [],
      "metadata": {
        "id": "Br7Kw15_u7e3"
      }
    },
    {
      "cell_type": "markdown",
      "source": [
        "# 2. Visualize the Dataset:\n"
      ],
      "metadata": {
        "id": "djaN6aeJxfut"
      }
    },
    {
      "cell_type": "code",
      "source": [
        "import numpy as np\n",
        "import pandas as pd\n",
        "import matplotlib.pyplot as plt\n",
        "\n",
        "# Load the dataset\n",
        "df_0_1 = pd.read_csv(\"/content/drive/MyDrive/AI_AND_MACHINE_LEARNING/Workshop-3/mnist_0_and_1.csv\")  # Ensure correct file path\n",
        "\n",
        "# Extract features and labels\n",
        "X = df_0_1.drop(columns=[\"label\"]).values  # 784 pixels\n",
        "y = df_0_1[\"label\"].values  # Labels (0 or 1)\n",
        "\n",
        "# Separate images for label 0 and label 1\n",
        "images_0 = X[y == 0]  # Get all images with label 0\n",
        "images_1 = X[y == 1]  # Get all images with label 1\n",
        "\n",
        "# Check if we have at least 5 images for each label\n",
        "if len(images_0) < 5 or len(images_1) < 5:\n",
        "    print(\"Error: Not enough images in images_0 or images_1 to plot 5 images.\")\n",
        "else:\n",
        "    # Create subplots\n",
        "    fig, axes = plt.subplots(2, 5, figsize=(10, 5))\n",
        "\n",
        "    for i in range(5):\n",
        "        # Plot digit 0\n",
        "        axes[0, i].imshow(images_0[i].reshape(28, 28), cmap=\"gray\")\n",
        "        axes[0, i].set_title(\"Label: 0\")\n",
        "        axes[0, i].axis(\"off\")\n",
        "\n",
        "        # Plot digit 1\n",
        "        axes[1, i].imshow(images_1[i].reshape(28, 28), cmap=\"gray\")\n",
        "        axes[1, i].set_title(\"Label: 1\")\n",
        "        axes[1, i].axis(\"off\")\n",
        "\n",
        "    plt.suptitle(\"First 5 Images of 0 and 1 from MNIST Subset\")\n",
        "    plt.show()\n"
      ],
      "metadata": {
        "colab": {
          "base_uri": "https://localhost:8080/",
          "height": 451
        },
        "id": "e9y9ez1kt3gg",
        "outputId": "ca11d2c8-ca13-4753-b1a9-fd0b487415b5"
      },
      "execution_count": null,
      "outputs": [
        {
          "output_type": "display_data",
          "data": {
            "text/plain": [
              "<Figure size 1000x500 with 10 Axes>"
            ],
            "image/png": "[encoded data removed]"
          },
          "metadata": {}
        }
      ]
    },
    {
      "cell_type": "markdown",
      "source": [
        "# 3. Initialize Weights and Bias:"
      ],
      "metadata": {
        "id": "ovEdcoYkyP9b"
      }
    },
    {
      "cell_type": "code",
      "source": [
        " # Initialize weights and bias\n",
        " weights = np.zeros(X.shape[1]) # 784 weights (one for each pixel)\n",
        " bias = 0\n",
        " learning_rate = 0.1\n",
        " epochs = 100"
      ],
      "metadata": {
        "id": "0c0HuZpKyRR7"
      },
      "execution_count": null,
      "outputs": []
    },
    {
      "cell_type": "markdown",
      "source": [
        "Answer the Following Question:\n",
        "\n",
        "Question- 3: What does the weights array represent in this context?\n",
        "\n",
        "Answ:\n",
        "\n",
        "The weights array represents the importance of each pixel in the classification task. Since there are 784 pixels per image (28×28), there are 784 weights, each associated with a pixel to determine how much it contributes to predicting the digit (0 or 1).\n",
        "\n",
        " Question- 4: Why are we initializing the weights to zero? What effect could this have on the training process?\n",
        "\n",
        " Answ:\n",
        "\n",
        "Initializing weights to zero means all neurons will update identically, leading to symmetry and preventing the model from learning properly. In practice, small random values are preferred for initialization to allow diverse learning.\n"
      ],
      "metadata": {
        "id": "F53AtcQZyaJ_"
      }
    },
    {
      "cell_type": "markdown",
      "source": [
        "4. ImplementaDecisionFunctionorActivationFunction:"
      ],
      "metadata": {
        "id": "CYRtZXIPzMEu"
      }
    },
    {
      "cell_type": "code",
      "source": [
        "import numpy as np\n",
        "\n",
        "def decision_function(X, weights, bias):\n",
        "    \"\"\"\n",
        "    Compute the predicted labels for the input data.\n",
        "\n",
        "    Parameters:\n",
        "    - X: Features (input data) as a numpy array of shape (n_samples, n_features)\n",
        "    - weights: Updated weights after training\n",
        "    - bias: Updated bias after training\n",
        "\n",
        "    Returns:\n",
        "    - y_pred_all: The predicted labels (0 or 1) for the input data\n",
        "    \"\"\"\n",
        "    predictions = np.dot(X, weights) + bias  # Linear combination\n",
        "\n",
        "    # Step function activation\n",
        "    y_pred_all = np.where(predictions >= 0, 1, 0)  # Convert to 0 or 1\n",
        "\n",
        "    return y_pred_all\n"
      ],
      "metadata": {
        "id": "Q7pS3yucy4H6"
      },
      "execution_count": null,
      "outputs": []
    },
    {
      "cell_type": "markdown",
      "source": [
        "5.ImplementthePerceptronLearningAlgorithm:"
      ],
      "metadata": {
        "id": "rYYAvg92zhLG"
      }
    },
    {
      "cell_type": "code",
      "source": [
        "import numpy as np\n",
        "\n",
        "def decision_function(X, weights, bias):\n",
        "    \"\"\"Compute the predicted labels using a step function.\"\"\"\n",
        "    predictions = np.dot(X, weights) + bias  # Linear function\n",
        "    return np.where(predictions >= 0, 1, 0)  # Step activation function\n",
        "\n",
        "def train_perceptron(X, y, weights, bias, learning_rate=0.1, epochs=100):\n",
        "    \"\"\"\n",
        "    Train the perceptron using the Perceptron Learning Algorithm.\n",
        "\n",
        "    Parameters:\n",
        "    - X: Features (input data), shape (n_samples, n_features)\n",
        "    - y: Labels (true output), shape (n_samples,)\n",
        "    - weights: Initial weights, shape (n_features,)\n",
        "    - bias: Initial bias (scalar)\n",
        "    - learning_rate: Learning rate for weight updates (default: 0.1)\n",
        "    - epochs: Number of iterations to train the model (default: 100)\n",
        "\n",
        "    Returns:\n",
        "    - weights: Updated weights after training\n",
        "    - bias: Updated bias after training\n",
        "    - accuracy: Total correct predictions\n",
        "    \"\"\"\n",
        "\n",
        "    n_samples = X.shape[0]\n",
        "\n",
        "    for epoch in range(epochs):\n",
        "        correct_predictions = 0  # Track correct classifications\n",
        "\n",
        "        for i in range(n_samples):\n",
        "            # Compute prediction\n",
        "            y_pred = decision_function(X[i], weights, bias)\n",
        "\n",
        "            # Update weights and bias if misclassified\n",
        "            if y_pred != y[i]:\n",
        "                weights += learning_rate * (y[i] - y_pred) * X[i]\n",
        "                bias += learning_rate * (y[i] - y_pred)\n",
        "            else:\n",
        "                correct_predictions += 1  # Count correct predictions\n",
        "\n",
        "        # Compute accuracy after each epoch\n",
        "        accuracy = correct_predictions / n_samples\n",
        "\n",
        "    return weights, bias, accuracy\n"
      ],
      "metadata": {
        "id": "Y02pPUqtzfIq"
      },
      "execution_count": null,
      "outputs": []
    },
    {
      "cell_type": "markdown",
      "source": [
        "Question-5:\n",
        "\n",
        "Whatisthepurposeoftheoutput=np.dot(X[i],weights)+biasline?\n",
        "\n",
        "Answ:\n",
        "\n",
        "This line calculates the linear combination of the input features (X[i]) and their corresponding weights (weights). The result of np.dot(X[i], weights) gives the weighted sum of the input features, and adding the bias shifts the result to account for any offset. This combined value (linear output) is then passed through the activation function (step function) to generate the prediction.\n",
        "\n",
        "Question- 6:\n",
        "\n",
        "What happens when the prediction is wrong? How are the weights and\n",
        "bias updated?\n",
        "\n",
        "Answ:\n",
        "When the prediction is wrong (i.e., the model's output does not match the true label), the weights and bias are updated to correct the error.\n",
        "Weight Update: The weights are adjusted based on the difference between the true label (y[i]) and the predicted label (y_pred), multiplied by the input features (X[i]):\n",
        "weights\n",
        "+\n",
        "=\n",
        "𝜂\n",
        "⋅\n",
        "(\n",
        "𝑦\n",
        "[\n",
        "𝑖\n",
        "]\n",
        "−\n",
        "𝑦\n",
        "_\n",
        "𝑝\n",
        "𝑟\n",
        "𝑒\n",
        "𝑑\n",
        ")\n",
        "⋅\n",
        "𝑋\n",
        "[\n",
        "𝑖\n",
        "]\n",
        "weights+=η⋅(y[i]−y_pred)⋅X[i]\n",
        "where\n",
        "𝜂\n",
        "η is the learning rate.\n",
        "Bias Update: The bias is adjusted by the same factor (learning rate times the error):\n",
        "bias\n",
        "+\n",
        "=\n",
        "𝜂\n",
        "⋅\n",
        "(\n",
        "𝑦\n",
        "[\n",
        "𝑖\n",
        "]\n",
        "−\n",
        "𝑦\n",
        "_\n",
        "𝑝\n",
        "𝑟\n",
        "𝑒\n",
        "𝑑\n",
        ")\n",
        "bias+=η⋅(y[i]−y_pred)\n",
        "This update ensures that the model becomes more accurate over time by reducing the prediction error.\n",
        "\n",
        "Question- 7:\n",
        "\n",
        "Why is the final accuracy important, and what do you expect it to be?\n",
        "\n",
        "Answ:\n",
        "\n",
        "Final accuracy is important because it indicates how well the model has learned to classify the data correctly. It is a measure of the model's performance on the dataset.\n",
        "After training, you would expect the accuracy to be high (close to 1) if the model has learned effectively and classified most of the samples correctly. The expected accuracy depends on the complexity of the data and the training process, but for simple binary classification tasks (like digit 0 and 1), the accuracy should be reasonably high after sufficient training."
      ],
      "metadata": {
        "id": "MPwD8SEE09ex"
      }
    },
    {
      "cell_type": "markdown",
      "source": [
        "# 6. Putting it all Together:"
      ],
      "metadata": {
        "id": "EidyjNLd1l1U"
      }
    },
    {
      "cell_type": "code",
      "source": [
        " # After training the model with the perceptron_learning_algorithm\n",
        " weights, bias, accuracy = train_perceptron(X, y, weights, bias)\n",
        " # Evaluate the model using the new function\n",
        " print(\"The Final Accuracy is: \", accuracy)"
      ],
      "metadata": {
        "colab": {
          "base_uri": "https://localhost:8080/"
        },
        "id": "_b4u-2BP1kDC",
        "outputId": "35e457cb-ec71-4a4b-b892-4c8a6c831a7b"
      },
      "execution_count": null,
      "outputs": [
        {
          "output_type": "stream",
          "name": "stdout",
          "text": [
            "The Final Accuracy is:  1.0\n"
          ]
        }
      ]
    },
    {
      "cell_type": "markdown",
      "source": [
        " 7. Visualizing the Misclassified Image:"
      ],
      "metadata": {
        "id": "h4PDndB51ySv"
      }
    },
    {
      "cell_type": "code",
      "source": [
        "import numpy as np\n",
        "import matplotlib.pyplot as plt\n",
        "\n",
        "# Assuming you have already trained your perceptron and have the weights, bias, and data\n",
        "# For simplicity, let's assume `X`, `y`, `weights`, and `bias` are already defined.\n",
        "\n",
        "# Get predictions for all data points\n",
        "predictions = np.dot(X, weights) + bias\n",
        "y_pred = np.where(predictions >= 0, 1, 0)  # Step function to classify as 0 or 1\n",
        "\n",
        "# Calculate final accuracy\n",
        "final_accuracy = np.mean(y_pred == y)\n",
        "print(f\"Final Accuracy: {final_accuracy:.4f}\")\n",
        "\n",
        "# Step 5: Visualize Misclassified Images\n",
        "misclassified_idx = np.where(y_pred != y)[0]  # Get indices of misclassified images\n",
        "\n",
        "if len(misclassified_idx) > 0:\n",
        "    # Create a plot to show misclassified images\n",
        "    fig, axes = plt.subplots(2, 5, figsize=(10, 5))\n",
        "\n",
        "    # Show up to 10 misclassified images\n",
        "    for ax, idx in zip(axes.flat, misclassified_idx[:10]):\n",
        "        ax.imshow(X[idx].reshape(28, 28), cmap=\"gray\")\n",
        "        ax.set_title(f\"Pred: {y_pred[idx]}, True: {y[idx]}\")\n",
        "        ax.axis(\"off\")\n",
        "\n",
        "    plt.suptitle(\"Misclassified Images\")\n",
        "    plt.show()\n",
        "else:\n",
        "    print(\"All images were correctly classified!\")\n"
      ],
      "metadata": {
        "colab": {
          "base_uri": "https://localhost:8080/"
        },
        "id": "V18IfrEv1zhx",
        "outputId": "12c042f4-4e12-409f-ee64-84f79697f8d7"
      },
      "execution_count": null,
      "outputs": [
        {
          "output_type": "stream",
          "name": "stdout",
          "text": [
            "Final Accuracy: 1.0000\n",
            "All images were correctly classified!\n"
          ]
        }
      ]
    },
    {
      "cell_type": "markdown",
      "source": [
        "Question8:\n",
        " What does misclassified_idx store, and how is it used in this code?\n",
        "\n",
        "Answ:\n",
        "\n",
        "misclassified_idx stores the indices of the images where the predicted label (y_pred) does not match the true label (y). It is calculated using np.where(y_pred != y)[0], which returns the indices where the prediction is incorrect.\n",
        "In this code, it is used to select and display the misclassified images. If there are any misclassified images, they are shown in the plot with their predicted and true labels. If no misclassified images exist, the message \"All images were correctly classified!\" is displayed.\n",
        "\n",
        " Question- 9:\n",
        " How do you interpret the result if the output is ”All images were\n",
        " correctly classified!”?\n",
        "\n",
        " Answ:\n",
        "\n",
        "If the output is \"All images were correctly classified!\", it means that the perceptron model has perfectly classified all the input data, with no errors in the predictions. This could indicate that the model has learned the decision boundary well for the specific task. However, it could also suggest overfitting (if the model is trained on a small dataset) or easy separability (if the dataset is very simple).\n"
      ],
      "metadata": {
        "id": "tvB1X-pI2BD2"
      }
    },
    {
      "cell_type": "markdown",
      "source": [
        "# To- Do:\n",
        " 1. Implement each Step as we implemented above.\n",
        " 2. Visualize the final misclassified images and Provide your conclusion."
      ],
      "metadata": {
        "id": "_6xLqyKr2gEI"
      }
    },
    {
      "cell_type": "code",
      "source": [
        "\n",
        "import numpy as np\n",
        "import pandas as pd\n",
        "import matplotlib.pyplot as plt\n",
        "\n",
        "# Load the dataset\n",
        "df_3_and_5 = pd.read_csv(\"/content/drive/MyDrive/AI_AND_MACHINE_LEARNING/Workshop-3/mnist_3_and_5.csv\")\n",
        "\n",
        "# Extract features and labels\n",
        "X = df_3_and_5.drop(columns=[\"label\"]).values  # 784 pixels per image\n",
        "y = df_3_and_5[\"label\"].values  # Labels (either 3 or 5)\n",
        "\n",
        "# Initialize weights and bias\n",
        "weights = np.zeros(X.shape[1])  # 784 weights (one for each pixel)\n",
        "bias = 0\n",
        "learning_rate = 0.1\n",
        "epochs = 100\n",
        "\n",
        "# Decision function (step activation function)\n",
        "def decision_function(X, weights, bias):\n",
        "    predictions = np.dot(X, weights) + bias\n",
        "    return np.where(predictions >= 0, 5, 3)\n",
        "\n",
        "# Perceptron training algorithm\n",
        "def train_perceptron(X, y, weights, bias, learning_rate=0.1, epochs=100):\n",
        "    n_samples = X.shape[0]\n",
        "\n",
        "    for epoch in range(epochs):\n",
        "        correct_predictions = 0\n",
        "\n",
        "        for i in range(n_samples):\n",
        "            y_pred = decision_function(X[i], weights, bias)\n",
        "\n",
        "            if y_pred != y[i]:\n",
        "                weights += learning_rate * (y[i] - y_pred) * X[i]\n",
        "                bias += learning_rate * (y[i] - y_pred)\n",
        "            else:\n",
        "                correct_predictions += 1\n",
        "\n",
        "        accuracy = correct_predictions / n_samples\n",
        "\n",
        "    return weights, bias, accuracy\n",
        "\n",
        "# Train the perceptron model\n",
        "weights, bias, accuracy = train_perceptron(X, y, weights, bias, learning_rate, epochs)\n",
        "\n",
        "# Print final accuracy\n",
        "print(f\"Final Accuracy: {accuracy:.4f}\")\n",
        "\n",
        "# Step 5: Visualize Misclassified Images\n",
        "predictions = decision_function(X, weights, bias)\n",
        "misclassified_idx = np.where(predictions != y)[0]\n",
        "\n",
        "if len(misclassified_idx) > 0:\n",
        "    # Create a plot to show misclassified images\n",
        "    fig, axes = plt.subplots(2, 5, figsize=(10, 5))\n",
        "\n",
        "    # Show up to 10 misclassified images\n",
        "    for ax, idx in zip(axes.flat, misclassified_idx[:10]):\n",
        "        ax.imshow(X[idx].reshape(28, 28), cmap=\"gray\")\n",
        "        ax.set_title(f\"Pred: {predictions[idx]}, True: {y[idx]}\")\n",
        "        ax.axis(\"off\")\n",
        "\n",
        "    plt.suptitle(\"Misclassified Images\")\n",
        "    plt.show()\n",
        "else:\n",
        "    print(\"All images were correctly classified!\")\n"
      ],
      "metadata": {
        "colab": {
          "base_uri": "https://localhost:8080/",
          "height": 468
        },
        "id": "hVJXCTCr4iFY",
        "outputId": "7f94a941-d40e-4fe7-96ad-1e346633275d"
      },
      "execution_count": null,
      "outputs": [
        {
          "output_type": "stream",
          "name": "stdout",
          "text": [
            "Final Accuracy: 0.9858\n"
          ]
        },
        {
          "output_type": "display_data",
          "data": {
            "text/plain": [
              "<Figure size 1000x500 with 10 Axes>"
            ],
            "image/png": "[encoded data removed]"
          },
          "metadata": {}
        }
      ]
    }
  ]
}